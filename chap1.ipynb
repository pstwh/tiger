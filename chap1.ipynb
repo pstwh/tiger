{
 "cells": [
  {
   "cell_type": "markdown",
   "metadata": {},
   "source": [
    "<img style=\"height: 400px\" src=\"images/t1.png\"/>"
   ]
  },
  {
   "cell_type": "code",
   "execution_count": 15,
   "metadata": {},
   "outputs": [],
   "source": [
    "-- 1.\n",
    "-- https://www.cs.princeton.edu/~appel/modern/ml/project.html\n",
    "-- a:= 5 + 3 ; b := ( print ( a , a - 1 ) , 10 * a ) ; print ( b )\n",
    "\n",
    "module Slp where\n",
    "\n",
    "type Id = String\n",
    "\n",
    "data Binop = Plus | Minus | Times | Div\n",
    "\n",
    "data Stm = CompoundStm Stm Stm\n",
    "    | AssignStm Id Exp\n",
    "    | PrintStm [Exp]\n",
    "\n",
    "data Exp = IdExp Id\n",
    "    | NumExp Int\n",
    "    | OpExp Binop Exp Exp\n",
    "    | EseqExp Stm Exp\n",
    "\n",
    "\n",
    "prog = CompoundStm \n",
    "    (AssignStm \"a\" (OpExp Plus (NumExp 5) (NumExp 3)))\n",
    "    (CompoundStm\n",
    "        (AssignStm \"b\"\n",
    "            (EseqExp\n",
    "                (PrintStm [IdExp \"a\", OpExp Minus (IdExp \"a\") (NumExp 1)])\n",
    "                (OpExp Times (NumExp 10) (IdExp \"a\"))\n",
    "        ))\n",
    "        (PrintStm [IdExp \"b\"])\n",
    "    )\n"
   ]
  },
  {
   "cell_type": "code",
   "execution_count": null,
   "metadata": {},
   "outputs": [],
   "source": []
  }
 ],
 "metadata": {
  "kernelspec": {
   "display_name": "Haskell",
   "language": "haskell",
   "name": "haskell"
  },
  "language_info": {
   "codemirror_mode": "ihaskell",
   "file_extension": ".hs",
   "mimetype": "text/x-haskell",
   "name": "haskell",
   "pygments_lexer": "Haskell",
   "version": "8.6.5"
  }
 },
 "nbformat": 4,
 "nbformat_minor": 4
}
