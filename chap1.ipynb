{
 "cells": [
  {
   "cell_type": "markdown",
   "metadata": {},
   "source": [
    "<img style=\"height: 400px\" src=\"images/t1.png\"/>"
   ]
  },
  {
   "cell_type": "code",
   "execution_count": 62,
   "metadata": {},
   "outputs": [],
   "source": [
    "-- 1.\n",
    "-- https://www.cs.princeton.edu/~appel/modern/ml/project.html\n",
    "-- a:= 5 + 3 ; b := ( print ( a , a - 1 ) , 10 * a ) ; print ( b )\n",
    "\n",
    "type Id = String\n",
    "\n",
    "data Binop = Plus | Minus | Times | Div\n",
    "\n",
    "data Stm = CompoundStm Stm Stm\n",
    "    | AssignStm Id Exp\n",
    "    | PrintStm [Exp]\n",
    "\n",
    "data Exp = IdExp Id\n",
    "    | NumExp Int\n",
    "    | OpExp Binop Exp Exp\n",
    "    | EseqExp Stm Exp\n",
    "\n",
    "\n",
    "prog = CompoundStm \n",
    "    (AssignStm \"a\" (OpExp Plus (NumExp 5) (NumExp 3)))\n",
    "    (CompoundStm\n",
    "        (AssignStm \"b\"\n",
    "            (EseqExp\n",
    "                (PrintStm [IdExp \"a\", OpExp Minus (IdExp \"a\") (NumExp 1)])\n",
    "                (OpExp Times (NumExp 10) (IdExp \"a\"))\n",
    "        ))\n",
    "        (PrintStm [IdExp \"b\"])\n",
    "    )"
   ]
  },
  {
   "cell_type": "code",
   "execution_count": 64,
   "metadata": {},
   "outputs": [],
   "source": [
    "-- MaxArgs\n",
    "maxargs :: Stm -> Int\n",
    "maxargs stm =\n",
    "    case stm of\n",
    "        CompoundStm stmA stmB -> max (maxargs stmA) (maxargs stmB)\n",
    "        AssignStm _ expA -> expargs expA\n",
    "        PrintStm expS -> max (length expS) (largs expS)\n",
    "    where\n",
    "        largs :: [Exp] -> Int\n",
    "        largs = foldr (max . expargs) 0\n",
    "        expargs :: Exp -> Int\n",
    "        expargs expA =\n",
    "            case expA of\n",
    "                EseqExp stm _ -> maxargs stm\n",
    "                _ -> 0"
   ]
  },
  {
   "cell_type": "code",
   "execution_count": 71,
   "metadata": {},
   "outputs": [
    {
     "data": {
      "text/plain": [
       "2"
      ]
     },
     "metadata": {},
     "output_type": "display_data"
    }
   ],
   "source": [
    "prog = CompoundStm \n",
    "    (AssignStm \"a\" (OpExp Plus (NumExp 5) (NumExp 3)))\n",
    "    (CompoundStm\n",
    "        (AssignStm \"b\"\n",
    "            (EseqExp\n",
    "                (PrintStm [IdExp \"a\", OpExp Minus (IdExp \"a\") (NumExp 1)])\n",
    "                (OpExp Times (NumExp 10) (IdExp \"a\"))\n",
    "        ))\n",
    "        (PrintStm [IdExp \"b\"])\n",
    "    )\n",
    "print $ maxargs prog"
   ]
  },
  {
   "cell_type": "code",
   "execution_count": 72,
   "metadata": {},
   "outputs": [
    {
     "data": {
      "text/plain": [
       "4"
      ]
     },
     "metadata": {},
     "output_type": "display_data"
    }
   ],
   "source": [
    "prog2 = PrintStm [IdExp \"b\", IdExp \"c\", IdExp \"d\", IdExp \"e\"]\n",
    "print $ maxargs prog2"
   ]
  },
  {
   "cell_type": "code",
   "execution_count": 73,
   "metadata": {},
   "outputs": [
    {
     "data": {
      "text/plain": [
       "3"
      ]
     },
     "metadata": {},
     "output_type": "display_data"
    }
   ],
   "source": [
    "prog3 = CompoundStm \n",
    "    (AssignStm \"a\" (OpExp Plus (NumExp 5) (NumExp 3)))\n",
    "    (CompoundStm\n",
    "        (AssignStm \"b\"\n",
    "            (EseqExp\n",
    "                (PrintStm [IdExp \"a\", OpExp Minus (IdExp \"a\") (NumExp 1)])\n",
    "                (OpExp Times (NumExp 10) (IdExp \"a\"))\n",
    "        ))\n",
    "        (PrintStm [IdExp \"b\", OpExp Minus (IdExp \"a\") (NumExp 1), IdExp \"c\"])\n",
    "    )\n",
    "print $ maxargs prog3"
   ]
  },
  {
   "cell_type": "code",
   "execution_count": null,
   "metadata": {},
   "outputs": [],
   "source": []
  }
 ],
 "metadata": {
  "kernelspec": {
   "display_name": "Haskell",
   "language": "haskell",
   "name": "haskell"
  },
  "language_info": {
   "codemirror_mode": "ihaskell",
   "file_extension": ".hs",
   "mimetype": "text/x-haskell",
   "name": "haskell",
   "pygments_lexer": "Haskell",
   "version": "8.6.5"
  }
 },
 "nbformat": 4,
 "nbformat_minor": 4
}
